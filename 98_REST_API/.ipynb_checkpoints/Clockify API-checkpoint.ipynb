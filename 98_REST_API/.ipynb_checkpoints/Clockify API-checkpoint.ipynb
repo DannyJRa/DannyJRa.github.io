{
 "cells": [
  {
   "cell_type": "code",
   "execution_count": 1,
   "metadata": {
    "ExecuteTime": {
     "end_time": "2019-12-22T00:35:57.193362Z",
     "start_time": "2019-12-22T00:35:57.166314Z"
    }
   },
   "outputs": [
    {
     "data": {
      "text/plain": [
       "'/home/danny/OneDrive/DataScience/41_DannyJRa.github.io/98_REST_API'"
      ]
     },
     "execution_count": 1,
     "metadata": {},
     "output_type": "execute_result"
    }
   ],
   "source": [
    "path = !pwd \n",
    "path=path[0]\n",
    "path"
   ]
  },
  {
   "cell_type": "code",
   "execution_count": 2,
   "metadata": {
    "ExecuteTime": {
     "end_time": "2019-12-22T00:35:58.141461Z",
     "start_time": "2019-12-22T00:35:58.130725Z"
    }
   },
   "outputs": [
    {
     "data": {
      "text/plain": [
       "'/home/danny/OneDrive/DataScience/41_DannyJRa.github.io/98_REST_API/config.yml'"
      ]
     },
     "execution_count": 2,
     "metadata": {},
     "output_type": "execute_result"
    }
   ],
   "source": [
    "f'{path}/config.yml'"
   ]
  },
  {
   "cell_type": "code",
   "execution_count": 3,
   "metadata": {
    "ExecuteTime": {
     "end_time": "2019-12-22T00:35:58.927509Z",
     "start_time": "2019-12-22T00:35:58.888209Z"
    },
    "code_folding": []
   },
   "outputs": [
    {
     "name": "stderr",
     "output_type": "stream",
     "text": [
      "/home/danny/anaconda3/lib/python3.7/site-packages/ipykernel_launcher.py:4: YAMLLoadWarning: calling yaml.load() without Loader=... is deprecated, as the default Loader is unsafe. Please read https://msg.pyyaml.org/load for full details.\n",
      "  after removing the cwd from sys.path.\n"
     ]
    }
   ],
   "source": [
    "import yaml\n",
    "\n",
    "with open(f'{path}/config.yml', 'r') as ymlfile:\n",
    "    cfg = yaml.load(ymlfile)"
   ]
  },
  {
   "cell_type": "code",
   "execution_count": 4,
   "metadata": {
    "ExecuteTime": {
     "end_time": "2019-12-22T00:36:03.652937Z",
     "start_time": "2019-12-22T00:36:03.647954Z"
    },
    "code_folding": [
     0
    ]
   },
   "outputs": [
    {
     "name": "stdout",
     "output_type": "stream",
     "text": [
      "mysql\n",
      "other\n",
      "clockify\n",
      "{'host': 'localhost', 'user': 'root', 'passwd': 'my secret password', 'db': 'write-math'}\n",
      "{'preprocessing_queue': ['preprocessing.scale_and_center', 'preprocessing.dot_reduction', 'preprocessing.connect_lines'], 'use_anonymous': True}\n"
     ]
    }
   ],
   "source": [
    "for section in cfg:\n",
    "    print(section)\n",
    "print(cfg['mysql'])\n",
    "print(cfg['other'])"
   ]
  },
  {
   "cell_type": "code",
   "execution_count": 5,
   "metadata": {
    "ExecuteTime": {
     "end_time": "2019-12-22T00:36:06.725822Z",
     "start_time": "2019-12-22T00:36:06.718369Z"
    }
   },
   "outputs": [],
   "source": [
    "api_key=cfg['clockify']['api_key']"
   ]
  },
  {
   "cell_type": "markdown",
   "metadata": {},
   "source": [
    "# Get request"
   ]
  },
  {
   "cell_type": "code",
   "execution_count": 6,
   "metadata": {
    "ExecuteTime": {
     "end_time": "2019-12-22T00:36:11.603873Z",
     "start_time": "2019-12-22T00:36:11.254359Z"
    }
   },
   "outputs": [],
   "source": [
    "# importing the requests library \n",
    "import requests \n",
    "\n",
    "# api-endpoint \n",
    "URL = \"https://api.clockify.me/api/v1/user\"\n",
    "\n",
    "\n",
    "headers = {\n",
    "    'content-type': 'application/json',\n",
    "    'X-Api-Key': api_key,\n",
    "}\n",
    "\n",
    "# location given here \n",
    "location = \"delhi technological university\"\n",
    "\n",
    "# defining a params dict for the parameters to be sent to the API \n",
    "PARAMS = {'X-Api-Key':api_key} \n",
    "\n",
    "# sending get request and saving the response as response object \n",
    "r = requests.get(url = URL, headers=headers)#params = PARAMS) \n",
    "\n",
    "# extracting data in json format \n",
    "data = r.json() "
   ]
  },
  {
   "cell_type": "code",
   "execution_count": 7,
   "metadata": {
    "ExecuteTime": {
     "end_time": "2019-12-22T00:36:15.145676Z",
     "start_time": "2019-12-22T00:36:15.129823Z"
    }
   },
   "outputs": [
    {
     "data": {
      "text/plain": [
       "{'id': '5de6263dd1f7b05531e7ba7f',\n",
       " 'email': 'dannyjrasch@gmail.com',\n",
       " 'name': 'Danny Rasch',\n",
       " 'memberships': [{'userId': '5de6263dd1f7b05531e7ba7f',\n",
       "   'hourlyRate': None,\n",
       "   'targetId': '5de6263dd1f7b05531e7ba80',\n",
       "   'membershipType': 'WORKSPACE',\n",
       "   'membershipStatus': 'ACTIVE'},\n",
       "  {'userId': '5de6263dd1f7b05531e7ba7f',\n",
       "   'hourlyRate': None,\n",
       "   'targetId': '5de6373a6afcf51b013e2a7b',\n",
       "   'membershipType': 'PROJECT',\n",
       "   'membershipStatus': 'ACTIVE'},\n",
       "  {'userId': '5de6263dd1f7b05531e7ba7f',\n",
       "   'hourlyRate': None,\n",
       "   'targetId': '5df396a97597692991929a72',\n",
       "   'membershipType': 'PROJECT',\n",
       "   'membershipStatus': 'ACTIVE'}],\n",
       " 'profilePicture': 'https://s3.eu-central-1.amazonaws.com/clockify/no-user-image.png',\n",
       " 'activeWorkspace': '5de6263dd1f7b05531e7ba80',\n",
       " 'defaultWorkspace': '5de6263dd1f7b05531e7ba80',\n",
       " 'settings': {'weekStart': 'MONDAY',\n",
       "  'timeZone': 'Europe/Zurich',\n",
       "  'timeFormat': 'HOUR12',\n",
       "  'dateFormat': 'MM/DD/YYYY',\n",
       "  'sendNewsletter': False,\n",
       "  'weeklyUpdates': False,\n",
       "  'longRunning': False,\n",
       "  'summaryReportSettings': {'group': 'PROJECT', 'subgroup': 'CLIENT'},\n",
       "  'isCompactViewOn': False,\n",
       "  'dashboardSelection': 'ME',\n",
       "  'dashboardViewType': 'PROJECT',\n",
       "  'dashboardPinToTop': False,\n",
       "  'projectListCollapse': 50,\n",
       "  'collapseAllProjectLists': False,\n",
       "  'groupSimilarEntriesDisabled': False,\n",
       "  'myStartOfDay': '09:00',\n",
       "  'timeTrackingManual': True},\n",
       " 'status': 'ACTIVE'}"
      ]
     },
     "execution_count": 7,
     "metadata": {},
     "output_type": "execute_result"
    }
   ],
   "source": [
    "data"
   ]
  },
  {
   "cell_type": "code",
   "execution_count": 8,
   "metadata": {
    "ExecuteTime": {
     "end_time": "2019-12-22T00:36:21.117039Z",
     "start_time": "2019-12-22T00:36:21.048266Z"
    }
   },
   "outputs": [],
   "source": [
    "import requests\n",
    "\n",
    "headers = {\n",
    "    'content-type': 'application/json',\n",
    "    'X-Api-Key': api_key,\n",
    "}\n",
    "\n",
    "response = requests.get('https://api.clockify.me/api/v1/workspaces', headers=headers)\n",
    "\n"
   ]
  },
  {
   "cell_type": "code",
   "execution_count": 9,
   "metadata": {
    "ExecuteTime": {
     "end_time": "2019-12-22T00:36:23.567547Z",
     "start_time": "2019-12-22T00:36:23.540450Z"
    }
   },
   "outputs": [
    {
     "data": {
      "text/plain": [
       "[{'id': '5de6263dd1f7b05531e7ba80',\n",
       "  'name': \"Danny Rasch's workspace\",\n",
       "  'hourlyRate': {'amount': 0, 'currency': 'USD'},\n",
       "  'memberships': [{'userId': '5de6263dd1f7b05531e7ba7f',\n",
       "    'hourlyRate': None,\n",
       "    'targetId': '5de6263dd1f7b05531e7ba80',\n",
       "    'membershipType': 'WORKSPACE',\n",
       "    'membershipStatus': 'ACTIVE'}],\n",
       "  'workspaceSettings': {'timeRoundingInReports': False,\n",
       "   'onlyAdminsSeeBillableRates': True,\n",
       "   'onlyAdminsCreateProject': True,\n",
       "   'onlyAdminsSeeDashboard': False,\n",
       "   'defaultBillableProjects': True,\n",
       "   'isProjectPublicByDefault': False,\n",
       "   'lockTimeEntries': None,\n",
       "   'round': {'round': 'Round to nearest', 'minutes': '15'},\n",
       "   'projectFavorites': True,\n",
       "   'canSeeTimeSheet': False,\n",
       "   'projectPickerSpecialFilter': False,\n",
       "   'forceProjects': False,\n",
       "   'forceTasks': False,\n",
       "   'forceTags': False,\n",
       "   'forceDescription': False,\n",
       "   'onlyAdminsSeeAllTimeEntries': False,\n",
       "   'onlyAdminsSeePublicProjectsEntries': False,\n",
       "   'trackTimeDownToSecond': True,\n",
       "   'projectGroupingLabel': 'client',\n",
       "   'adminOnlyPages': [],\n",
       "   'automaticLock': None,\n",
       "   'onlyAdminsCreateTag': False},\n",
       "  'imageUrl': '',\n",
       "  'featureSubscriptionType': None}]"
      ]
     },
     "execution_count": 9,
     "metadata": {},
     "output_type": "execute_result"
    }
   ],
   "source": [
    "response\n",
    "data = response.json() \n",
    "data"
   ]
  },
  {
   "cell_type": "code",
   "execution_count": 79,
   "metadata": {
    "ExecuteTime": {
     "end_time": "2019-12-22T00:36:29.299274Z",
     "start_time": "2019-12-22T00:36:29.202644Z"
    }
   },
   "outputs": [
    {
     "data": {
      "text/plain": [
       "[{'id': '5df52adadcb50a7902c02fb8',\n",
       "  'name': 'test_tag',\n",
       "  'workspaceId': '5de6263dd1f7b05531e7ba80',\n",
       "  'archived': False}]"
      ]
     },
     "execution_count": 79,
     "metadata": {},
     "output_type": "execute_result"
    }
   ],
   "source": [
    "response = requests.get('https://api.clockify.me/api/v1/workspaces/5de6263dd1f7b05531e7ba80/tags', headers=headers)\n",
    "data = response.json() \n",
    "data"
   ]
  },
  {
   "cell_type": "code",
   "execution_count": 11,
   "metadata": {
    "ExecuteTime": {
     "end_time": "2019-12-22T00:36:36.654568Z",
     "start_time": "2019-12-22T00:36:36.572091Z"
    }
   },
   "outputs": [
    {
     "data": {
      "text/plain": [
       "[{'id': '5df52af6b1a5ec52732c9c47',\n",
       "  'name': 'test_task',\n",
       "  'projectId': '5df396a97597692991929a72',\n",
       "  'assigneeIds': [],\n",
       "  'assigneeId': '',\n",
       "  'estimate': 'PT0S',\n",
       "  'status': 'ACTIVE',\n",
       "  'duration': 'PT0S'}]"
      ]
     },
     "execution_count": 11,
     "metadata": {},
     "output_type": "execute_result"
    }
   ],
   "source": [
    "response = requests.get('https://api.clockify.me/api/v1/workspaces/5de6263dd1f7b05531e7ba80/projects/5df396a97597692991929a72/tasks', headers=headers)\n",
    "data = response.json() \n",
    "data"
   ]
  },
  {
   "cell_type": "code",
   "execution_count": 25,
   "metadata": {
    "ExecuteTime": {
     "end_time": "2019-12-22T00:41:10.419025Z",
     "start_time": "2019-12-22T00:41:10.334632Z"
    }
   },
   "outputs": [
    {
     "data": {
      "text/plain": [
       "[{'id': '5dfebad2efb1d14ac4d96c50',\n",
       "  'description': 'Writing documentation',\n",
       "  'tagIds': ['5df52adadcb50a7902c02fb8'],\n",
       "  'userId': '5de6263dd1f7b05531e7ba7f',\n",
       "  'billable': True,\n",
       "  'taskId': '5df52af6b1a5ec52732c9c47',\n",
       "  'projectId': '5df396a97597692991929a72',\n",
       "  'timeInterval': {'start': '2019-12-22T13:48:14Z',\n",
       "   'end': '2019-12-22T13:50:14Z',\n",
       "   'duration': 'PT2M'},\n",
       "  'workspaceId': '5de6263dd1f7b05531e7ba80',\n",
       "  'isLocked': False},\n",
       " {'id': '5dfeb762efb1d14ac4d96b25',\n",
       "  'description': None,\n",
       "  'tagIds': None,\n",
       "  'userId': '5de6263dd1f7b05531e7ba7f',\n",
       "  'billable': True,\n",
       "  'taskId': None,\n",
       "  'projectId': '5de6373a6afcf51b013e2a7b',\n",
       "  'timeInterval': {'start': '2019-12-20T08:06:00Z',\n",
       "   'end': '2019-12-20T10:23:00Z',\n",
       "   'duration': 'PT2H17M'},\n",
       "  'workspaceId': '5de6263dd1f7b05531e7ba80',\n",
       "  'isLocked': False},\n",
       " {'id': '5dfeb6d1efb1d14ac4d96aff',\n",
       "  'description': None,\n",
       "  'tagIds': None,\n",
       "  'userId': '5de6263dd1f7b05531e7ba7f',\n",
       "  'billable': True,\n",
       "  'taskId': None,\n",
       "  'projectId': '5de6373a6afcf51b013e2a7b',\n",
       "  'timeInterval': {'start': '2019-12-20T08:00:00Z',\n",
       "   'end': '2019-12-20T11:00:00Z',\n",
       "   'duration': 'PT3H'},\n",
       "  'workspaceId': '5de6263dd1f7b05531e7ba80',\n",
       "  'isLocked': False},\n",
       " {'id': '5dfeb7a4efb1d14ac4d96b39',\n",
       "  'description': None,\n",
       "  'tagIds': None,\n",
       "  'userId': '5de6263dd1f7b05531e7ba7f',\n",
       "  'billable': True,\n",
       "  'taskId': None,\n",
       "  'projectId': '5de6373a6afcf51b013e2a7b',\n",
       "  'timeInterval': {'start': '2019-12-19T21:30:00Z',\n",
       "   'end': '2019-12-19T21:30:00Z',\n",
       "   'duration': 'PT0S'},\n",
       "  'workspaceId': '5de6263dd1f7b05531e7ba80',\n",
       "  'isLocked': False},\n",
       " {'id': '5dfeb785efb1d14ac4d96b31',\n",
       "  'description': None,\n",
       "  'tagIds': None,\n",
       "  'userId': '5de6263dd1f7b05531e7ba7f',\n",
       "  'billable': True,\n",
       "  'taskId': None,\n",
       "  'projectId': '5de6373a6afcf51b013e2a7b',\n",
       "  'timeInterval': {'start': '2019-12-19T11:02:00Z',\n",
       "   'end': '2019-12-19T11:02:00Z',\n",
       "   'duration': 'PT0S'},\n",
       "  'workspaceId': '5de6263dd1f7b05531e7ba80',\n",
       "  'isLocked': False},\n",
       " {'id': '5df52ae0b1a5ec52732c9c44',\n",
       "  'description': 'test2',\n",
       "  'tagIds': ['5df52adadcb50a7902c02fb8'],\n",
       "  'userId': '5de6263dd1f7b05531e7ba7f',\n",
       "  'billable': False,\n",
       "  'taskId': '5df52af6b1a5ec52732c9c47',\n",
       "  'projectId': '5df396a97597692991929a72',\n",
       "  'timeInterval': {'start': '2019-12-14T18:32:00Z',\n",
       "   'end': '2019-12-14T18:32:00Z',\n",
       "   'duration': 'PT0S'},\n",
       "  'workspaceId': '5de6263dd1f7b05531e7ba80',\n",
       "  'isLocked': False},\n",
       " {'id': '5df518d9759769299194796b',\n",
       "  'description': 'test',\n",
       "  'tagIds': None,\n",
       "  'userId': '5de6263dd1f7b05531e7ba7f',\n",
       "  'billable': True,\n",
       "  'taskId': None,\n",
       "  'projectId': '5de6373a6afcf51b013e2a7b',\n",
       "  'timeInterval': {'start': '2019-12-14T17:16:09Z',\n",
       "   'end': '2019-12-14T18:03:37Z',\n",
       "   'duration': 'PT47M28S'},\n",
       "  'workspaceId': '5de6263dd1f7b05531e7ba80',\n",
       "  'isLocked': False},\n",
       " {'id': '5df4f2657597692991945ba5',\n",
       "  'description': None,\n",
       "  'tagIds': None,\n",
       "  'userId': '5de6263dd1f7b05531e7ba7f',\n",
       "  'billable': False,\n",
       "  'taskId': None,\n",
       "  'projectId': '5de6373a6afcf51b013e2a7b',\n",
       "  'timeInterval': {'start': '2019-12-14T14:32:04Z',\n",
       "   'end': '2019-12-14T16:49:47Z',\n",
       "   'duration': 'PT2H17M43S'},\n",
       "  'workspaceId': '5de6263dd1f7b05531e7ba80',\n",
       "  'isLocked': False},\n",
       " {'id': '5df4a6637597692991942a9f',\n",
       "  'description': None,\n",
       "  'tagIds': None,\n",
       "  'userId': '5de6263dd1f7b05531e7ba7f',\n",
       "  'billable': False,\n",
       "  'taskId': None,\n",
       "  'projectId': '5de6373a6afcf51b013e2a7b',\n",
       "  'timeInterval': {'start': '2019-12-14T08:40:00Z',\n",
       "   'end': '2019-12-14T10:28:52Z',\n",
       "   'duration': 'PT1H48M52S'},\n",
       "  'workspaceId': '5de6263dd1f7b05531e7ba80',\n",
       "  'isLocked': False},\n",
       " {'id': '5df392217597692991928c69',\n",
       "  'description': None,\n",
       "  'tagIds': None,\n",
       "  'userId': '5de6263dd1f7b05531e7ba7f',\n",
       "  'billable': False,\n",
       "  'taskId': None,\n",
       "  'projectId': '5de6373a6afcf51b013e2a7b',\n",
       "  'timeInterval': {'start': '2019-12-13T12:15:00Z',\n",
       "   'end': '2019-12-13T16:30:00Z',\n",
       "   'duration': 'PT4H15M'},\n",
       "  'workspaceId': '5de6263dd1f7b05531e7ba80',\n",
       "  'isLocked': False},\n",
       " {'id': '5df3920a7597692991928c2a',\n",
       "  'description': None,\n",
       "  'tagIds': None,\n",
       "  'userId': '5de6263dd1f7b05531e7ba7f',\n",
       "  'billable': False,\n",
       "  'taskId': None,\n",
       "  'projectId': '5de6373a6afcf51b013e2a7b',\n",
       "  'timeInterval': {'start': '2019-12-13T08:00:00Z',\n",
       "   'end': '2019-12-13T10:59:00Z',\n",
       "   'duration': 'PT2H59M'},\n",
       "  'workspaceId': '5de6263dd1f7b05531e7ba80',\n",
       "  'isLocked': False},\n",
       " {'id': '5df392717597692991928d52',\n",
       "  'description': None,\n",
       "  'tagIds': None,\n",
       "  'userId': '5de6263dd1f7b05531e7ba7f',\n",
       "  'billable': True,\n",
       "  'taskId': None,\n",
       "  'projectId': '5de6373a6afcf51b013e2a7b',\n",
       "  'timeInterval': {'start': '2019-12-12T14:00:00Z',\n",
       "   'end': '2019-12-12T16:30:00Z',\n",
       "   'duration': 'PT2H30M'},\n",
       "  'workspaceId': '5de6263dd1f7b05531e7ba80',\n",
       "  'isLocked': False},\n",
       " {'id': '5df392577597692991928cff',\n",
       "  'description': None,\n",
       "  'tagIds': None,\n",
       "  'userId': '5de6263dd1f7b05531e7ba7f',\n",
       "  'billable': True,\n",
       "  'taskId': None,\n",
       "  'projectId': '5de6373a6afcf51b013e2a7b',\n",
       "  'timeInterval': {'start': '2019-12-12T08:10:00Z',\n",
       "   'end': '2019-12-12T11:15:00Z',\n",
       "   'duration': 'PT3H5M'},\n",
       "  'workspaceId': '5de6263dd1f7b05531e7ba80',\n",
       "  'isLocked': False},\n",
       " {'id': '5df392d57597692991928e9b',\n",
       "  'description': None,\n",
       "  'tagIds': None,\n",
       "  'userId': '5de6263dd1f7b05531e7ba7f',\n",
       "  'billable': False,\n",
       "  'taskId': None,\n",
       "  'projectId': '5de6373a6afcf51b013e2a7b',\n",
       "  'timeInterval': {'start': '2019-12-11T12:15:00Z',\n",
       "   'end': '2019-12-11T17:30:00Z',\n",
       "   'duration': 'PT5H15M'},\n",
       "  'workspaceId': '5de6263dd1f7b05531e7ba80',\n",
       "  'isLocked': False},\n",
       " {'id': '5df392ae7597692991928e19',\n",
       "  'description': None,\n",
       "  'tagIds': None,\n",
       "  'userId': '5de6263dd1f7b05531e7ba7f',\n",
       "  'billable': False,\n",
       "  'taskId': None,\n",
       "  'projectId': '5de6373a6afcf51b013e2a7b',\n",
       "  'timeInterval': {'start': '2019-12-11T07:50:00Z',\n",
       "   'end': '2019-12-11T10:30:00Z',\n",
       "   'duration': 'PT2H40M'},\n",
       "  'workspaceId': '5de6263dd1f7b05531e7ba80',\n",
       "  'isLocked': False},\n",
       " {'id': '5df392f77597692991928ef0',\n",
       "  'description': None,\n",
       "  'tagIds': None,\n",
       "  'userId': '5de6263dd1f7b05531e7ba7f',\n",
       "  'billable': False,\n",
       "  'taskId': None,\n",
       "  'projectId': '5de6373a6afcf51b013e2a7b',\n",
       "  'timeInterval': {'start': '2019-12-10T20:00:00Z',\n",
       "   'end': '2019-12-10T21:15:00Z',\n",
       "   'duration': 'PT1H15M'},\n",
       "  'workspaceId': '5de6263dd1f7b05531e7ba80',\n",
       "  'isLocked': False},\n",
       " {'id': '5df396d67597692991929b06',\n",
       "  'description': 'test',\n",
       "  'tagIds': None,\n",
       "  'userId': '5de6263dd1f7b05531e7ba7f',\n",
       "  'billable': False,\n",
       "  'taskId': None,\n",
       "  'projectId': '5df396a97597692991929a72',\n",
       "  'timeInterval': {'start': '2019-12-10T12:00:00Z',\n",
       "   'end': '2019-12-10T16:20:00Z',\n",
       "   'duration': 'PT4H20M'},\n",
       "  'workspaceId': '5de6263dd1f7b05531e7ba80',\n",
       "  'isLocked': False},\n",
       " {'id': '5df396ab7597692991929a78',\n",
       "  'description': 'test',\n",
       "  'tagIds': None,\n",
       "  'userId': '5de6263dd1f7b05531e7ba7f',\n",
       "  'billable': False,\n",
       "  'taskId': None,\n",
       "  'projectId': '5df396a97597692991929a72',\n",
       "  'timeInterval': {'start': '2019-12-10T08:15:00Z',\n",
       "   'end': '2019-12-10T11:00:00Z',\n",
       "   'duration': 'PT2H45M'},\n",
       "  'workspaceId': '5de6263dd1f7b05531e7ba80',\n",
       "  'isLocked': False},\n",
       " {'id': '5dee68121ca53362a4a66296',\n",
       "  'description': None,\n",
       "  'tagIds': None,\n",
       "  'userId': '5de6263dd1f7b05531e7ba7f',\n",
       "  'billable': True,\n",
       "  'taskId': None,\n",
       "  'projectId': '5de6373a6afcf51b013e2a7b',\n",
       "  'timeInterval': {'start': '2019-12-09T12:00:00Z',\n",
       "   'end': '2019-12-09T17:00:00Z',\n",
       "   'duration': 'PT5H'},\n",
       "  'workspaceId': '5de6263dd1f7b05531e7ba80',\n",
       "  'isLocked': False},\n",
       " {'id': '5dee67f81ca53362a4a66226',\n",
       "  'description': None,\n",
       "  'tagIds': None,\n",
       "  'userId': '5de6263dd1f7b05531e7ba7f',\n",
       "  'billable': True,\n",
       "  'taskId': None,\n",
       "  'projectId': '5de6373a6afcf51b013e2a7b',\n",
       "  'timeInterval': {'start': '2019-12-09T08:00:00Z',\n",
       "   'end': '2019-12-09T10:59:00Z',\n",
       "   'duration': 'PT2H59M'},\n",
       "  'workspaceId': '5de6263dd1f7b05531e7ba80',\n",
       "  'isLocked': False},\n",
       " {'id': '5deb8f2e1ca53362a4a2f429',\n",
       "  'description': None,\n",
       "  'tagIds': None,\n",
       "  'userId': '5de6263dd1f7b05531e7ba7f',\n",
       "  'billable': False,\n",
       "  'taskId': None,\n",
       "  'projectId': '5de6373a6afcf51b013e2a7b',\n",
       "  'timeInterval': {'start': '2019-12-07T11:36:02Z',\n",
       "   'end': '2019-12-07T13:38:02Z',\n",
       "   'duration': 'PT2H2M'},\n",
       "  'workspaceId': '5de6263dd1f7b05531e7ba80',\n",
       "  'isLocked': False},\n",
       " {'id': '5df394d075976929919294f3',\n",
       "  'description': None,\n",
       "  'tagIds': None,\n",
       "  'userId': '5de6263dd1f7b05531e7ba7f',\n",
       "  'billable': False,\n",
       "  'taskId': None,\n",
       "  'projectId': '5de6373a6afcf51b013e2a7b',\n",
       "  'timeInterval': {'start': '2019-12-06T13:00:00Z',\n",
       "   'end': '2019-12-06T16:30:00Z',\n",
       "   'duration': 'PT3H30M'},\n",
       "  'workspaceId': '5de6263dd1f7b05531e7ba80',\n",
       "  'isLocked': False},\n",
       " {'id': '5df394a47597692991929456',\n",
       "  'description': None,\n",
       "  'tagIds': None,\n",
       "  'userId': '5de6263dd1f7b05531e7ba7f',\n",
       "  'billable': False,\n",
       "  'taskId': None,\n",
       "  'projectId': '5de6373a6afcf51b013e2a7b',\n",
       "  'timeInterval': {'start': '2019-12-06T08:00:00Z',\n",
       "   'end': '2019-12-06T10:00:00Z',\n",
       "   'duration': 'PT2H'},\n",
       "  'workspaceId': '5de6263dd1f7b05531e7ba80',\n",
       "  'isLocked': False},\n",
       " {'id': '5df3973f1b303427081d87e5',\n",
       "  'description': None,\n",
       "  'tagIds': None,\n",
       "  'userId': '5de6263dd1f7b05531e7ba7f',\n",
       "  'billable': False,\n",
       "  'taskId': None,\n",
       "  'projectId': '5df396a97597692991929a72',\n",
       "  'timeInterval': {'start': '2019-12-05T08:15:00Z',\n",
       "   'end': '2019-12-05T16:15:00Z',\n",
       "   'duration': 'PT8H'},\n",
       "  'workspaceId': '5de6263dd1f7b05531e7ba80',\n",
       "  'isLocked': False},\n",
       " {'id': '5df3972b7597692991929bd3',\n",
       "  'description': None,\n",
       "  'tagIds': None,\n",
       "  'userId': '5de6263dd1f7b05531e7ba7f',\n",
       "  'billable': False,\n",
       "  'taskId': None,\n",
       "  'projectId': '5df396a97597692991929a72',\n",
       "  'timeInterval': {'start': '2019-12-04T08:15:00Z',\n",
       "   'end': '2019-12-04T16:15:00Z',\n",
       "   'duration': 'PT8H'},\n",
       "  'workspaceId': '5de6263dd1f7b05531e7ba80',\n",
       "  'isLocked': False},\n",
       " {'id': '5de68a651ca53362a49c6a84',\n",
       "  'description': 'Azure',\n",
       "  'tagIds': None,\n",
       "  'userId': '5de6263dd1f7b05531e7ba7f',\n",
       "  'billable': False,\n",
       "  'taskId': None,\n",
       "  'projectId': None,\n",
       "  'timeInterval': {'start': '2019-12-03T16:16:36Z',\n",
       "   'end': '2019-12-03T16:37:31Z',\n",
       "   'duration': 'PT20M55S'},\n",
       "  'workspaceId': '5de6263dd1f7b05531e7ba80',\n",
       "  'isLocked': False},\n",
       " {'id': '5de6264c9fbfdb5c5297c88a',\n",
       "  'description': 'RfP',\n",
       "  'tagIds': None"
      ]
     },
     "execution_count": 25,
     "metadata": {},
     "output_type": "execute_result"
    },
    {
     "data": {
      "text/html": [
       "<b>limit_output extension: Maximum message size of 10000 exceeded with 11056 characters</b>"
      ]
     },
     "metadata": {},
     "output_type": "display_data"
    }
   ],
   "source": [
    "response = requests.get('https://api.clockify.me/api/v1/workspaces/5de6263dd1f7b05531e7ba80/user/5de6263dd1f7b05531e7ba7f/time-entries', headers=headers)\n",
    "data = response.json() \n",
    "data\n"
   ]
  },
  {
   "cell_type": "code",
   "execution_count": null,
   "metadata": {},
   "outputs": [],
   "source": []
  },
  {
   "cell_type": "code",
   "execution_count": 13,
   "metadata": {
    "ExecuteTime": {
     "end_time": "2019-12-22T00:36:59.023082Z",
     "start_time": "2019-12-22T00:36:58.938326Z"
    }
   },
   "outputs": [],
   "source": [
    "# importing the requests library \n",
    "import requests \n",
    "\n",
    "# api-endpoint \n",
    "URL = \"https://api.clockify.me/api/v1/workspaces/5de6263dd1f7b05531e7ba80/timeEntries\"\n",
    "\n",
    "\n",
    "headers = {\n",
    "    'content-type': 'application/json',\n",
    "    'X-Api-Key': api_key,\n",
    "}\n",
    "\n",
    "# location given here \n",
    "location = \"delhi technological university\"\n",
    "\n",
    "# defining a params dict for the parameters to be sent to the API \n",
    "PARAMS = {\"start\": \"2019-12-09T13:00:37Z\",\n",
    "         \"end\": \"2019-12-12T12:01:41Z\"} \n",
    "\n",
    "# sending get request and saving the response as response object \n",
    "r = requests.get(url = URL, headers=headers)#,params = PARAMS) \n",
    "\n",
    "# extracting data in json format \n",
    "data = r.json() "
   ]
  },
  {
   "cell_type": "code",
   "execution_count": 14,
   "metadata": {
    "ExecuteTime": {
     "end_time": "2019-12-22T00:37:01.098433Z",
     "start_time": "2019-12-22T00:37:01.093930Z"
    }
   },
   "outputs": [
    {
     "data": {
      "text/plain": [
       "{'timestamp': '2019-12-22T00:36:59.013+0000',\n",
       " 'status': 404,\n",
       " 'error': 'Not Found',\n",
       " 'message': 'No message available',\n",
       " 'path': '/v1/workspaces/5de6263dd1f7b05531e7ba80/timeEntries'}"
      ]
     },
     "execution_count": 14,
     "metadata": {},
     "output_type": "execute_result"
    }
   ],
   "source": [
    "data"
   ]
  },
  {
   "cell_type": "markdown",
   "metadata": {},
   "source": [
    " Post Clockify"
   ]
  },
  {
   "cell_type": "code",
   "execution_count": 10,
   "metadata": {
    "ExecuteTime": {
     "end_time": "2019-12-22T01:11:02.303352Z",
     "start_time": "2019-12-22T01:11:02.195313Z"
    }
   },
   "outputs": [
    {
     "name": "stdout",
     "output_type": "stream",
     "text": [
      "The pastebin URL is:{\"message\":\"You entered invalid value for field : [start]. Values that represent [start] can't be null and can't be empty. Please make sure that the [start] date is not greater than 9999-12-31 and not less than 0001-01-01. Ensure that the [start] date is in following format: \\\"yyyy-MM-ddThh:mm:ssZ\\\" Example: 2018-11-29T13:00:46Z. \",\"code\":501}\n"
     ]
    }
   ],
   "source": [
    "# importing the requests library \n",
    "import requests \n",
    "URL = \"https://api.clockify.me/api/v1/workspaces/5de6263dd1f7b05531e7ba80/time-entries\"\n",
    "\n",
    "\n",
    "# your API key here \n",
    "\n",
    "headers = {\n",
    "    'content-type': 'application/json',\n",
    "    'X-Api-Key': api_key,\n",
    "}\n",
    "# your source code here \n",
    "source_code = ''' \n",
    "print(\"Hello, world!\") \n",
    "a = 1 \n",
    "b = 2 \n",
    "print(a + b) \n",
    "'''\n",
    "\n",
    "# data to be sent to api \n",
    "data = {\n",
    "        \"start\": \"2020-01-20T13:48:14.000Z\",\n",
    "        \"billable\": \"true\",\n",
    "        \"description\": \"Writing documentation\",\n",
    "        \"projectId\": \"5df396a97597692991929a72\",\n",
    "        \"taskId\": \"5df52af6b1a5ec52732c9c47\",\n",
    "        \"end\": \"2020-01-20T13:55:14.000Z\",\n",
    "        \"tagIds\": [\n",
    "           \"5df52adadcb50a7902c02fb8\"\n",
    "         ],\n",
    "        } \n",
    "\n",
    "# sending post request and saving response as response object \n",
    "#data is not automatically converted to json, you have to do this explicitly:\n",
    "r = requests.post(url = URL, headers=headers,data = json.dumps(data)) \n",
    "\n",
    "# extracting response text \n",
    "pastebin_url = r.text \n",
    "print(\"The pastebin URL is:%s\"%pastebin_url) \n"
   ]
  },
  {
   "cell_type": "code",
   "execution_count": null,
   "metadata": {},
   "outputs": [],
   "source": [
    "\"start\": \"2020-01-20T13:48:14.000Z\""
   ]
  },
  {
   "cell_type": "code",
   "execution_count": 22,
   "metadata": {
    "ExecuteTime": {
     "end_time": "2019-12-22T00:39:35.013112Z",
     "start_time": "2019-12-22T00:39:35.000731Z"
    }
   },
   "outputs": [
    {
     "data": {
      "text/plain": [
       "{'id': '5dfebad2efb1d14ac4d96c50',\n",
       " 'description': 'Writing documentation',\n",
       " 'tagIds': ['5df52adadcb50a7902c02fb8'],\n",
       " 'userId': '5de6263dd1f7b05531e7ba7f',\n",
       " 'billable': True,\n",
       " 'taskId': '5df52af6b1a5ec52732c9c47',\n",
       " 'projectId': '5df396a97597692991929a72',\n",
       " 'timeInterval': {'start': '2019-12-22T13:48:14Z',\n",
       "  'end': '2019-12-22T13:50:14Z',\n",
       "  'duration': 'PT2M'},\n",
       " 'workspaceId': '5de6263dd1f7b05531e7ba80',\n",
       " 'isLocked': False}"
      ]
     },
     "execution_count": 22,
     "metadata": {},
     "output_type": "execute_result"
    }
   ],
   "source": [
    "data = r.json() \n",
    "data"
   ]
  },
  {
   "cell_type": "code",
   "execution_count": 24,
   "metadata": {
    "ExecuteTime": {
     "end_time": "2019-12-22T00:39:50.711901Z",
     "start_time": "2019-12-22T00:39:50.705654Z"
    }
   },
   "outputs": [
    {
     "data": {
      "text/plain": [
       "'5dfebad2efb1d14ac4d96c50'"
      ]
     },
     "execution_count": 24,
     "metadata": {},
     "output_type": "execute_result"
    }
   ],
   "source": [
    "data[\"id\"]"
   ]
  },
  {
   "cell_type": "code",
   "execution_count": 73,
   "metadata": {
    "ExecuteTime": {
     "end_time": "2019-12-22T01:20:33.957650Z",
     "start_time": "2019-12-22T01:20:33.880133Z"
    }
   },
   "outputs": [
    {
     "name": "stdout",
     "output_type": "stream",
     "text": [
      "The pastebin URL is:{\"id\":\"5e2961921a5a5c79a38f9ef2\",\"description\":\"Writing documentation\",\"tagIds\":[\"5df52adadcb50a7902c02fb8\"],\"userId\":\"5de6263dd1f7b05531e7ba7f\",\"billable\":true,\"taskId\":\"5df52af6b1a5ec52732c9c47\",\"projectId\":\"5df396a97597692991929a72\",\"timeInterval\":{\"start\":\"2019-12-22T13:52:00Z\",\"end\":\"2019-12-22T13:55:00Z\",\"duration\":\"PT3M\"},\"workspaceId\":\"5de6263dd1f7b05531e7ba80\",\"isLocked\":false}\n"
     ]
    }
   ],
   "source": [
    "# importing the requests library \n",
    "import requests \n",
    "URL = \"https://api.clockify.me/api/v1/workspaces/5de6263dd1f7b05531e7ba80/time-entries\"\n",
    "\n",
    "\n",
    "# your API key here \n",
    "\n",
    "headers = {\n",
    "    'content-type': 'application/json',\n",
    "    'X-Api-Key': api_key,\n",
    "}\n",
    "# your source code here \n",
    "source_code = ''' \n",
    "print(\"Hello, world!\") \n",
    "a = 1 \n",
    "b = 2 \n",
    "print(a + b) \n",
    "'''\n",
    "\n",
    "# data to be sent to api \n",
    "data = {\n",
    "        \"start\": \"2019-12-22T13:52:00.000Z\",\n",
    "        \"billable\": \"true\",\n",
    "        \"description\": \"Writing documentation\",\n",
    "        \"projectId\": \"5df396a97597692991929a72\",\n",
    "        \"taskId\": \"5df52af6b1a5ec52732c9c47\",\n",
    "        \"end\": \"2019-12-22T13:55:00.000Z\",\n",
    "        \"tagIds\": [\n",
    "           \"5df52adadcb50a7902c02fb8\"\n",
    "         ],\n",
    "        } \n",
    "\n",
    "# sending post request and saving response as response object \n",
    "#data is not automatically converted to json, you have to do this explicitly:\n",
    "r = requests.post(url = URL, headers=headers,data = json.dumps(data)) \n",
    "\n",
    "# extracting response text \n",
    "pastebin_url = r.text \n",
    "print(\"The pastebin URL is:%s\"%pastebin_url) \n"
   ]
  },
  {
   "cell_type": "code",
   "execution_count": 74,
   "metadata": {},
   "outputs": [],
   "source": [
    "data = {\n",
    "        \"start\": \"2019-12-22T13:52:00.000Z\",\n",
    "        \"billable\": \"true\",\n",
    "        \"description\": \"Writing documentation\",\n",
    "        \"projectId\": \"5df396a97597692991929a72\",\n",
    "        \"taskId\": \"5df52af6b1a5ec52732c9c47\",\n",
    "        \"end\": \"2019-12-122T13:55:00.000Z\",\n",
    "        \"tagIds\": [\n",
    "           \"5df52adadcb50a7902c02fb8\"\n",
    "         ],\n",
    "        } "
   ]
  },
  {
   "cell_type": "code",
   "execution_count": 29,
   "metadata": {},
   "outputs": [
    {
     "data": {
      "application/json": {
       "billable": "true",
       "description": "Writing documentation",
       "end": "2019-12-122T13:55:00.000Z",
       "projectId": "5df396a97597692991929a72",
       "start": "2019-12-22T13:52:00.000Z",
       "tagIds": [
        "5df52adadcb50a7902c02fb8"
       ],
       "taskId": "5df52af6b1a5ec52732c9c47"
      },
      "text/plain": [
       "<IPython.core.display.JSON object>"
      ]
     },
     "execution_count": 29,
     "metadata": {
      "application/json": {
       "expanded": true,
       "root": "root"
      }
     },
     "output_type": "execute_result"
    }
   ],
   "source": [
    "JSON(data, expanded=True)"
   ]
  },
  {
   "cell_type": "markdown",
   "metadata": {},
   "source": [
    "# Create Json payload from dictionary"
   ]
  },
  {
   "cell_type": "code",
   "execution_count": 104,
   "metadata": {},
   "outputs": [],
   "source": [
    "startNEW=\"2020-01-21T08:15:00\"\n",
    "startUPDATED=\"2020-01-07T14:00:00+00:00\"\n"
   ]
  },
  {
   "cell_type": "code",
   "execution_count": 97,
   "metadata": {},
   "outputs": [
    {
     "data": {
      "text/plain": [
       "19"
      ]
     },
     "execution_count": 97,
     "metadata": {},
     "output_type": "execute_result"
    }
   ],
   "source": [
    "len(startNEW)"
   ]
  },
  {
   "cell_type": "code",
   "execution_count": 120,
   "metadata": {},
   "outputs": [
    {
     "data": {
      "text/plain": [
       "'2020-01-07T14:00:00'"
      ]
     },
     "execution_count": 120,
     "metadata": {},
     "output_type": "execute_result"
    }
   ],
   "source": [
    "startUPDATED[:19]"
   ]
  },
  {
   "cell_type": "code",
   "execution_count": 127,
   "metadata": {},
   "outputs": [],
   "source": [
    "\n",
    "def Time_t(start):\n",
    "    if len(start) <= 19:\n",
    "        startTime =start + \".000Z\"\n",
    "    else:\n",
    "        startTime =start[:19] + \".000Z\"\n",
    "    return startTime\n",
    "\n"
   ]
  },
  {
   "cell_type": "code",
   "execution_count": 128,
   "metadata": {},
   "outputs": [
    {
     "data": {
      "text/plain": [
       "'2020-01-07T14:00:00.000Z'"
      ]
     },
     "execution_count": 128,
     "metadata": {},
     "output_type": "execute_result"
    }
   ],
   "source": [
    "startTime_t(startUPDATED)"
   ]
  },
  {
   "cell_type": "code",
   "execution_count": 58,
   "metadata": {},
   "outputs": [
    {
     "data": {
      "text/plain": [
       "str"
      ]
     },
     "execution_count": 58,
     "metadata": {},
     "output_type": "execute_result"
    }
   ],
   "source": [
    "type(start)"
   ]
  },
  {
   "cell_type": "code",
   "execution_count": 60,
   "metadata": {},
   "outputs": [
    {
     "data": {
      "text/plain": [
       "'2020-01-21T08:15:00.000Z'"
      ]
     },
     "execution_count": 60,
     "metadata": {},
     "output_type": "execute_result"
    }
   ],
   "source": []
  },
  {
   "cell_type": "code",
   "execution_count": 61,
   "metadata": {},
   "outputs": [
    {
     "data": {
      "text/plain": [
       "True"
      ]
     },
     "execution_count": 61,
     "metadata": {},
     "output_type": "execute_result"
    }
   ],
   "source": [
    "\n",
    "start\n",
    "start2\n",
    "start==start2\n"
   ]
  },
  {
   "cell_type": "code",
   "execution_count": 62,
   "metadata": {},
   "outputs": [],
   "source": [
    "end= \"2020-01-21T09:15:00.000Z\""
   ]
  },
  {
   "cell_type": "code",
   "execution_count": null,
   "metadata": {},
   "outputs": [],
   "source": []
  },
  {
   "cell_type": "code",
   "execution_count": null,
   "metadata": {},
   "outputs": [],
   "source": []
  },
  {
   "cell_type": "code",
   "execution_count": null,
   "metadata": {},
   "outputs": [],
   "source": []
  },
  {
   "cell_type": "markdown",
   "metadata": {},
   "source": [
    "# Input"
   ]
  },
  {
   "cell_type": "code",
   "execution_count": null,
   "metadata": {},
   "outputs": [],
   "source": [
    "start\n",
    "end\n",
    "projectId=\n"
   ]
  },
  {
   "cell_type": "code",
   "execution_count": 80,
   "metadata": {},
   "outputs": [],
   "source": [
    "payload_obj = {\n",
    "    \"start\": start2,\n",
    "    \"billable\": \"true\",\n",
    "    \"description\": \"Writing documentation\",\n",
    "    \"projectId\": \"5df396a97597692991929a72\",\n",
    "\n",
    "    \"end\": end,\n",
    "\n",
    "\n",
    "}\n",
    "\n",
    "payload = json.dumps(payload_obj)"
   ]
  },
  {
   "cell_type": "code",
   "execution_count": 75,
   "metadata": {},
   "outputs": [],
   "source": [
    "payload_obj = {\n",
    "    \"start\": start2,\n",
    "    \"billable\": \"true\",\n",
    "    \"description\": \"Writing documentation\",\n",
    "    \"projectId\": \"5df396a97597692991929a72\",\n",
    "    \"taskId\": \"5df52af6b1a5ec52732c9c47\",\n",
    "    \"end\": end,\n",
    "    \"tagIds\": [\"5df52adadcb50a7902c02fb8\"],\n",
    "\n",
    "}\n",
    "\n",
    "payload = json.dumps(payload_obj)"
   ]
  },
  {
   "cell_type": "code",
   "execution_count": 81,
   "metadata": {},
   "outputs": [
    {
     "data": {
      "application/json": {
       "billable": "true",
       "description": "Writing documentation",
       "end": "2020-01-21T09:15:00.000Z",
       "projectId": "5df396a97597692991929a72",
       "start": "2020-01-21T08:15:00.000Z"
      },
      "text/plain": [
       "<IPython.core.display.JSON object>"
      ]
     },
     "execution_count": 81,
     "metadata": {
      "application/json": {
       "expanded": true,
       "root": "root"
      }
     },
     "output_type": "execute_result"
    }
   ],
   "source": [
    "JSON(payload, expanded=True)"
   ]
  },
  {
   "cell_type": "code",
   "execution_count": null,
   "metadata": {},
   "outputs": [],
   "source": []
  },
  {
   "cell_type": "code",
   "execution_count": 82,
   "metadata": {},
   "outputs": [
    {
     "name": "stdout",
     "output_type": "stream",
     "text": [
      "The pastebin URL is:{\"id\":\"5e2964041a5a5c79a38fa9f8\",\"description\":\"Writing documentation\",\"tagIds\":null,\"userId\":\"5de6263dd1f7b05531e7ba7f\",\"billable\":true,\"taskId\":null,\"projectId\":\"5df396a97597692991929a72\",\"timeInterval\":{\"start\":\"2020-01-21T08:15:00Z\",\"end\":\"2020-01-21T09:15:00Z\",\"duration\":\"PT1H\"},\"workspaceId\":\"5de6263dd1f7b05531e7ba80\",\"isLocked\":false}\n"
     ]
    }
   ],
   "source": [
    "# importing the requests library \n",
    "import requests \n",
    "URL = \"https://api.clockify.me/api/v1/workspaces/5de6263dd1f7b05531e7ba80/time-entries\"\n",
    "\n",
    "\n",
    "# your API key here \n",
    "\n",
    "headers = {\n",
    "    'content-type': 'application/json',\n",
    "    'X-Api-Key': api_key,\n",
    "}\n",
    "# your source code here \n",
    "source_code = ''' \n",
    "print(\"Hello, world!\") \n",
    "a = 1 \n",
    "b = 2 \n",
    "print(a + b) \n",
    "'''\n",
    "\n",
    "# data to be sent to api \n",
    "\n",
    "\n",
    "# sending post request and saving response as response object \n",
    "#data is not automatically converted to json, you have to do this explicitly:\n",
    "r = requests.post(url = URL, headers=headers,data = payload) \n",
    "\n",
    "# extracting response text \n",
    "pastebin_url = r.text \n",
    "print(\"The pastebin URL is:%s\"%pastebin_url) \n"
   ]
  },
  {
   "cell_type": "code",
   "execution_count": null,
   "metadata": {},
   "outputs": [],
   "source": []
  },
  {
   "cell_type": "code",
   "execution_count": null,
   "metadata": {},
   "outputs": [],
   "source": []
  },
  {
   "cell_type": "code",
   "execution_count": 15,
   "metadata": {},
   "outputs": [],
   "source": [
    "payload_obj = {\n",
    "    \"nodes\": [{\n",
    "         \"attributes\": {\n",
    "             \"targetHeatTemperature\": {\n",
    "                 \"targetValue\": start,\n",
    "             }\n",
    "         }\n",
    "    }]\n",
    "}\n",
    "\n",
    "payload = json.dumps(payload_obj)"
   ]
  },
  {
   "cell_type": "code",
   "execution_count": 16,
   "metadata": {},
   "outputs": [
    {
     "data": {
      "text/plain": [
       "'{\"nodes\": [{\"attributes\": {\"targetHeatTemperature\": {\"targetValue\": \"2019-12-22T13:52:00.000Z\"}}}]}'"
      ]
     },
     "execution_count": 16,
     "metadata": {},
     "output_type": "execute_result"
    }
   ],
   "source": [
    "payload"
   ]
  },
  {
   "cell_type": "code",
   "execution_count": 19,
   "metadata": {},
   "outputs": [
    {
     "name": "stdout",
     "output_type": "stream",
     "text": [
      "\"{\\\"nodes\\\": [{\\\"attributes\\\": {\\\"targetHeatTemperature\\\": {\\\"targetValue\\\": \\\"2019-12-22T13:52:00.000Z\\\"}}}]}\"\n"
     ]
    }
   ],
   "source": []
  },
  {
   "cell_type": "markdown",
   "metadata": {},
   "source": [
    "# Pretty JSON Formatting in Jupyter"
   ]
  },
  {
   "cell_type": "code",
   "execution_count": 27,
   "metadata": {},
   "outputs": [
    {
     "data": {
      "application/json": {
       "nodes": [
        {
         "attributes": {
          "targetHeatTemperature": {
           "targetValue": "2019-12-22T13:52:00.000Z"
          }
         }
        }
       ]
      },
      "text/plain": [
       "<IPython.core.display.JSON object>"
      ]
     },
     "execution_count": 27,
     "metadata": {
      "application/json": {
       "expanded": true,
       "root": "root"
      }
     },
     "output_type": "execute_result"
    }
   ],
   "source": [
    "from IPython.display import JSON\n",
    "JSON(payload, expanded=True)"
   ]
  },
  {
   "cell_type": "code",
   "execution_count": null,
   "metadata": {},
   "outputs": [],
   "source": []
  }
 ],
 "metadata": {
  "hide_input": false,
  "kernelspec": {
   "display_name": "Python 3",
   "language": "python",
   "name": "python3"
  },
  "language_info": {
   "codemirror_mode": {
    "name": "ipython",
    "version": 3
   },
   "file_extension": ".py",
   "mimetype": "text/x-python",
   "name": "python",
   "nbconvert_exporter": "python",
   "pygments_lexer": "ipython3",
   "version": "3.7.3"
  },
  "toc": {
   "base_numbering": 1,
   "nav_menu": {},
   "number_sections": true,
   "sideBar": true,
   "skip_h1_title": false,
   "title_cell": "Table of Contents",
   "title_sidebar": "Contents",
   "toc_cell": false,
   "toc_position": {},
   "toc_section_display": true,
   "toc_window_display": false
  },
  "varInspector": {
   "cols": {
    "lenName": 16,
    "lenType": 16,
    "lenVar": 40
   },
   "kernels_config": {
    "python": {
     "delete_cmd_postfix": "",
     "delete_cmd_prefix": "del ",
     "library": "var_list.py",
     "varRefreshCmd": "print(var_dic_list())"
    },
    "r": {
     "delete_cmd_postfix": ") ",
     "delete_cmd_prefix": "rm(",
     "library": "var_list.r",
     "varRefreshCmd": "cat(var_dic_list()) "
    }
   },
   "types_to_exclude": [
    "module",
    "function",
    "builtin_function_or_method",
    "instance",
    "_Feature"
   ],
   "window_display": false
  }
 },
 "nbformat": 4,
 "nbformat_minor": 4
}
