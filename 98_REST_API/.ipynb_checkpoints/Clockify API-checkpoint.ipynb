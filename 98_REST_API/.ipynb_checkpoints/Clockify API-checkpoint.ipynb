{
 "cells": [
  {
   "cell_type": "code",
   "execution_count": null,
   "metadata": {
    "ExecuteTime": {
     "end_time": "2019-12-14T18:00:27.051479Z",
     "start_time": "2019-12-14T18:00:27.007119Z"
    }
   },
   "outputs": [],
   "source": [
    "path = !pwd \n",
    "path=path[0]\n",
    "path"
   ]
  },
  {
   "cell_type": "code",
   "execution_count": null,
   "metadata": {
    "ExecuteTime": {
     "end_time": "2019-12-14T18:00:29.166360Z",
     "start_time": "2019-12-14T18:00:29.146572Z"
    }
   },
   "outputs": [],
   "source": [
    "f'{path}/config.yml'"
   ]
  },
  {
   "cell_type": "code",
   "execution_count": null,
   "metadata": {
    "ExecuteTime": {
     "end_time": "2019-12-14T18:04:34.051132Z",
     "start_time": "2019-12-14T18:04:34.008335Z"
    },
    "code_folding": []
   },
   "outputs": [],
   "source": [
    "import yaml\n",
    "\n",
    "with open(f'{path}/config.yml', 'r') as ymlfile:\n",
    "    cfg = yaml.load(ymlfile)"
   ]
  },
  {
   "cell_type": "code",
   "execution_count": null,
   "metadata": {
    "ExecuteTime": {
     "end_time": "2019-12-14T18:01:19.292193Z",
     "start_time": "2019-12-14T18:01:19.281733Z"
    },
    "code_folding": []
   },
   "outputs": [],
   "source": [
    "for section in cfg:\n",
    "    print(section)\n",
    "print(cfg['mysql'])\n",
    "print(cfg['other'])"
   ]
  },
  {
   "cell_type": "code",
   "execution_count": null,
   "metadata": {
    "ExecuteTime": {
     "end_time": "2019-12-14T18:11:50.258863Z",
     "start_time": "2019-12-14T18:11:50.249245Z"
    }
   },
   "outputs": [],
   "source": [
    "api_key=cfg['clockify']['api_key']"
   ]
  },
  {
   "cell_type": "markdown",
   "metadata": {},
   "source": [
    "# Get request"
   ]
  },
  {
   "cell_type": "code",
   "execution_count": null,
   "metadata": {
    "ExecuteTime": {
     "end_time": "2019-12-14T18:16:07.334920Z",
     "start_time": "2019-12-14T18:16:07.248379Z"
    }
   },
   "outputs": [],
   "source": [
    "# importing the requests library \n",
    "import requests \n",
    "\n",
    "# api-endpoint \n",
    "URL = \"https://api.clockify.me/api/v1/user\"\n",
    "\n",
    "\n",
    "headers = {\n",
    "    'content-type': 'application/json',\n",
    "    'X-Api-Key': api_key,\n",
    "}\n",
    "\n",
    "# location given here \n",
    "location = \"delhi technological university\"\n",
    "\n",
    "# defining a params dict for the parameters to be sent to the API \n",
    "PARAMS = {'X-Api-Key':api_key} \n",
    "\n",
    "# sending get request and saving the response as response object \n",
    "r = requests.get(url = URL, headers=headers)#params = PARAMS) \n",
    "\n",
    "# extracting data in json format \n",
    "data = r.json() "
   ]
  },
  {
   "cell_type": "code",
   "execution_count": null,
   "metadata": {
    "ExecuteTime": {
     "end_time": "2019-12-14T18:16:16.380589Z",
     "start_time": "2019-12-14T18:16:16.347354Z"
    }
   },
   "outputs": [],
   "source": [
    "data"
   ]
  },
  {
   "cell_type": "code",
   "execution_count": null,
   "metadata": {
    "ExecuteTime": {
     "end_time": "2019-12-14T18:18:29.601446Z",
     "start_time": "2019-12-14T18:18:29.528184Z"
    }
   },
   "outputs": [],
   "source": [
    "import requests\n",
    "\n",
    "headers = {\n",
    "    'content-type': 'application/json',\n",
    "    'X-Api-Key': api_key,\n",
    "}\n",
    "\n",
    "response = requests.get('https://api.clockify.me/api/v1/workspaces', headers=headers)\n",
    "\n"
   ]
  },
  {
   "cell_type": "code",
   "execution_count": null,
   "metadata": {
    "ExecuteTime": {
     "end_time": "2019-12-14T18:18:51.413088Z",
     "start_time": "2019-12-14T18:18:51.402646Z"
    }
   },
   "outputs": [],
   "source": [
    "response\n",
    "data = response.json() \n",
    "data"
   ]
  },
  {
   "cell_type": "code",
   "execution_count": null,
   "metadata": {
    "ExecuteTime": {
     "end_time": "2019-12-14T18:35:35.800831Z",
     "start_time": "2019-12-14T18:35:35.719914Z"
    }
   },
   "outputs": [],
   "source": [
    "response = requests.get('https://api.clockify.me/api/v1/workspaces/5de6263dd1f7b05531e7ba80/tags', headers=headers)\n",
    "data = response.json() \n",
    "data"
   ]
  },
  {
   "cell_type": "code",
   "execution_count": null,
   "metadata": {
    "ExecuteTime": {
     "end_time": "2019-12-14T18:40:28.385749Z",
     "start_time": "2019-12-14T18:40:28.300520Z"
    }
   },
   "outputs": [],
   "source": [
    "response = requests.get('https://api.clockify.me/api/v1/workspaces/5de6263dd1f7b05531e7ba80/projects/5df396a97597692991929a72/tasks', headers=headers)\n",
    "data = response.json() \n",
    "data"
   ]
  },
  {
   "cell_type": "code",
   "execution_count": null,
   "metadata": {
    "ExecuteTime": {
     "end_time": "2019-12-14T18:53:54.144407Z",
     "start_time": "2019-12-14T18:53:53.984599Z"
    }
   },
   "outputs": [],
   "source": [
    "response = requests.get('https://api.clockify.me/api/v1/workspaces/5de6263dd1f7b05531e7ba80/user/5de6263dd1f7b05531e7ba7f/time-entries', headers=headers)\n",
    "data = response.json() \n",
    "data"
   ]
  },
  {
   "cell_type": "code",
   "execution_count": null,
   "metadata": {},
   "outputs": [],
   "source": []
  },
  {
   "cell_type": "code",
   "execution_count": null,
   "metadata": {
    "ExecuteTime": {
     "end_time": "2019-12-14T18:46:02.367187Z",
     "start_time": "2019-12-14T18:46:02.258989Z"
    }
   },
   "outputs": [],
   "source": [
    "# importing the requests library \n",
    "import requests \n",
    "\n",
    "# api-endpoint \n",
    "URL = \"https://api.clockify.me/api/v1/workspaces/5de6263dd1f7b05531e7ba80/timeEntries\"\n",
    "\n",
    "\n",
    "headers = {\n",
    "    'content-type': 'application/json',\n",
    "    'X-Api-Key': api_key,\n",
    "}\n",
    "\n",
    "# location given here \n",
    "location = \"delhi technological university\"\n",
    "\n",
    "# defining a params dict for the parameters to be sent to the API \n",
    "PARAMS = {\"start\": \"2019-12-09T13:00:37Z\",\n",
    "         \"end\": \"2019-12-12T12:01:41Z\"} \n",
    "\n",
    "# sending get request and saving the response as response object \n",
    "r = requests.get(url = URL, headers=headers)#,params = PARAMS) \n",
    "\n",
    "# extracting data in json format \n",
    "data = r.json() "
   ]
  },
  {
   "cell_type": "code",
   "execution_count": null,
   "metadata": {
    "ExecuteTime": {
     "end_time": "2019-12-14T18:46:02.986488Z",
     "start_time": "2019-12-14T18:46:02.968743Z"
    }
   },
   "outputs": [],
   "source": [
    "data"
   ]
  },
  {
   "cell_type": "markdown",
   "metadata": {},
   "source": [
    " Post Clockify"
   ]
  },
  {
   "cell_type": "code",
   "execution_count": null,
   "metadata": {
    "ExecuteTime": {
     "end_time": "2019-12-14T19:01:32.503055Z",
     "start_time": "2019-12-14T19:01:32.398090Z"
    }
   },
   "outputs": [],
   "source": [
    "# importing the requests library \n",
    "import requests \n",
    "URL = \"https://api.clockify.me/api/v1/workspaces/5de6263dd1f7b05531e7ba80/time-entries\"\n",
    "\n",
    "\n",
    "# your API key here \n",
    "\n",
    "headers = {\n",
    "    'content-type': 'application/json',\n",
    "    'X-Api-Key': api_key,\n",
    "}\n",
    "# your source code here \n",
    "source_code = ''' \n",
    "print(\"Hello, world!\") \n",
    "a = 1 \n",
    "b = 2 \n",
    "print(a + b) \n",
    "'''\n",
    "\n",
    "# data to be sent to api \n",
    "data = {\n",
    "        \"start\": \"2019-11-12T13:48:14.000Z\",\n",
    "        \"billable\": \"true\",\n",
    "        \"description\": \"Writing documentation\",\n",
    "        \"projectId\": \"5df396a97597692991929a72\",\n",
    "        \"taskId\": \"5df52af6b1a5ec52732c9c47\",\n",
    "        \"end\": \"2019-11-12T13:50:14.000Z\",\n",
    "        \"tagIds\": [\n",
    "           \"5df52adadcb50a7902c02fb8\"\n",
    "         ],\n",
    "        } \n",
    "\n",
    "# sending post request and saving response as response object \n",
    "#data is not automatically converted to json, you have to do this explicitly:\n",
    "r = requests.post(url = URL, headers=headers,data = json.dumps(data)) \n",
    "\n",
    "# extracting response text \n",
    "pastebin_url = r.text \n",
    "print(\"The pastebin URL is:%s\"%pastebin_url) \n"
   ]
  },
  {
   "cell_type": "code",
   "execution_count": null,
   "metadata": {},
   "outputs": [],
   "source": []
  }
 ],
 "metadata": {
  "hide_input": false,
  "kernelspec": {
   "display_name": "Python 3",
   "language": "python",
   "name": "python3"
  },
  "language_info": {
   "codemirror_mode": {
    "name": "ipython",
    "version": 3
   },
   "file_extension": ".py",
   "mimetype": "text/x-python",
   "name": "python",
   "nbconvert_exporter": "python",
   "pygments_lexer": "ipython3",
   "version": "3.7.3"
  },
  "toc": {
   "base_numbering": 1,
   "nav_menu": {},
   "number_sections": true,
   "sideBar": true,
   "skip_h1_title": false,
   "title_cell": "Table of Contents",
   "title_sidebar": "Contents",
   "toc_cell": false,
   "toc_position": {},
   "toc_section_display": true,
   "toc_window_display": false
  },
  "varInspector": {
   "cols": {
    "lenName": 16,
    "lenType": 16,
    "lenVar": 40
   },
   "kernels_config": {
    "python": {
     "delete_cmd_postfix": "",
     "delete_cmd_prefix": "del ",
     "library": "var_list.py",
     "varRefreshCmd": "print(var_dic_list())"
    },
    "r": {
     "delete_cmd_postfix": ") ",
     "delete_cmd_prefix": "rm(",
     "library": "var_list.r",
     "varRefreshCmd": "cat(var_dic_list()) "
    }
   },
   "types_to_exclude": [
    "module",
    "function",
    "builtin_function_or_method",
    "instance",
    "_Feature"
   ],
   "window_display": false
  }
 },
 "nbformat": 4,
 "nbformat_minor": 2
}
