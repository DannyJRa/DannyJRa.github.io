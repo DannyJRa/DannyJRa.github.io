{
 "cells": [
  {
   "cell_type": "code",
   "execution_count": 1,
   "metadata": {
    "ExecuteTime": {
     "end_time": "2019-12-22T00:35:57.193362Z",
     "start_time": "2019-12-22T00:35:57.166314Z"
    }
   },
   "outputs": [
    {
     "data": {
      "text/plain": [
       "'/home/danny/OneDrive/DataScience/41_DannyJRa.github.io/98_REST_API'"
      ]
     },
     "execution_count": 1,
     "metadata": {},
     "output_type": "execute_result"
    }
   ],
   "source": [
    "path = !pwd \n",
    "path=path[0]\n",
    "path"
   ]
  },
  {
   "cell_type": "code",
   "execution_count": 2,
   "metadata": {
    "ExecuteTime": {
     "end_time": "2019-12-22T00:35:58.141461Z",
     "start_time": "2019-12-22T00:35:58.130725Z"
    }
   },
   "outputs": [
    {
     "data": {
      "text/plain": [
       "'/home/danny/OneDrive/DataScience/41_DannyJRa.github.io/98_REST_API/config.yml'"
      ]
     },
     "execution_count": 2,
     "metadata": {},
     "output_type": "execute_result"
    }
   ],
   "source": [
    "f'{path}/config.yml'"
   ]
  },
  {
   "cell_type": "code",
   "execution_count": 3,
   "metadata": {
    "ExecuteTime": {
     "end_time": "2019-12-22T00:35:58.927509Z",
     "start_time": "2019-12-22T00:35:58.888209Z"
    },
    "code_folding": []
   },
   "outputs": [
    {
     "name": "stderr",
     "output_type": "stream",
     "text": [
      "/home/danny/anaconda3/lib/python3.7/site-packages/ipykernel_launcher.py:4: YAMLLoadWarning: calling yaml.load() without Loader=... is deprecated, as the default Loader is unsafe. Please read https://msg.pyyaml.org/load for full details.\n",
      "  after removing the cwd from sys.path.\n"
     ]
    }
   ],
   "source": [
    "import yaml\n",
    "\n",
    "with open(f'{path}/config.yml', 'r') as ymlfile:\n",
    "    cfg = yaml.load(ymlfile)"
   ]
  },
  {
   "cell_type": "code",
   "execution_count": 4,
   "metadata": {
    "ExecuteTime": {
     "end_time": "2019-12-22T00:36:03.652937Z",
     "start_time": "2019-12-22T00:36:03.647954Z"
    },
    "code_folding": [
     0
    ]
   },
   "outputs": [
    {
     "name": "stdout",
     "output_type": "stream",
     "text": [
      "mysql\n",
      "other\n",
      "clockify\n",
      "{'host': 'localhost', 'user': 'root', 'passwd': 'my secret password', 'db': 'write-math'}\n",
      "{'preprocessing_queue': ['preprocessing.scale_and_center', 'preprocessing.dot_reduction', 'preprocessing.connect_lines'], 'use_anonymous': True}\n"
     ]
    }
   ],
   "source": [
    "for section in cfg:\n",
    "    print(section)\n",
    "print(cfg['mysql'])\n",
    "print(cfg['other'])"
   ]
  },
  {
   "cell_type": "code",
   "execution_count": 5,
   "metadata": {
    "ExecuteTime": {
     "end_time": "2019-12-22T00:36:06.725822Z",
     "start_time": "2019-12-22T00:36:06.718369Z"
    }
   },
   "outputs": [],
   "source": [
    "api_key=cfg['clockify']['api_key']"
   ]
  },
  {
   "cell_type": "markdown",
   "metadata": {},
   "source": [
    "# Get request"
   ]
  },
  {
   "cell_type": "code",
   "execution_count": 6,
   "metadata": {
    "ExecuteTime": {
     "end_time": "2019-12-22T00:36:11.603873Z",
     "start_time": "2019-12-22T00:36:11.254359Z"
    }
   },
   "outputs": [],
   "source": [
    "# importing the requests library \n",
    "import requests \n",
    "\n",
    "# api-endpoint \n",
    "URL = \"https://api.clockify.me/api/v1/user\"\n",
    "\n",
    "\n",
    "headers = {\n",
    "    'content-type': 'application/json',\n",
    "    'X-Api-Key': api_key,\n",
    "}\n",
    "\n",
    "# location given here \n",
    "location = \"delhi technological university\"\n",
    "\n",
    "# defining a params dict for the parameters to be sent to the API \n",
    "PARAMS = {'X-Api-Key':api_key} \n",
    "\n",
    "# sending get request and saving the response as response object \n",
    "r = requests.get(url = URL, headers=headers)#params = PARAMS) \n",
    "\n",
    "# extracting data in json format \n",
    "data = r.json() "
   ]
  },
  {
   "cell_type": "code",
   "execution_count": 7,
   "metadata": {
    "ExecuteTime": {
     "end_time": "2019-12-22T00:36:15.145676Z",
     "start_time": "2019-12-22T00:36:15.129823Z"
    }
   },
   "outputs": [
    {
     "data": {
      "text/plain": [
       "{'id': '5de6263dd1f7b05531e7ba7f',\n",
       " 'email': 'dannyjrasch@gmail.com',\n",
       " 'name': 'Danny Rasch',\n",
       " 'memberships': [{'userId': '5de6263dd1f7b05531e7ba7f',\n",
       "   'hourlyRate': None,\n",
       "   'targetId': '5de6263dd1f7b05531e7ba80',\n",
       "   'membershipType': 'WORKSPACE',\n",
       "   'membershipStatus': 'ACTIVE'},\n",
       "  {'userId': '5de6263dd1f7b05531e7ba7f',\n",
       "   'hourlyRate': None,\n",
       "   'targetId': '5de6373a6afcf51b013e2a7b',\n",
       "   'membershipType': 'PROJECT',\n",
       "   'membershipStatus': 'ACTIVE'},\n",
       "  {'userId': '5de6263dd1f7b05531e7ba7f',\n",
       "   'hourlyRate': None,\n",
       "   'targetId': '5df396a97597692991929a72',\n",
       "   'membershipType': 'PROJECT',\n",
       "   'membershipStatus': 'ACTIVE'}],\n",
       " 'profilePicture': 'https://s3.eu-central-1.amazonaws.com/clockify/no-user-image.png',\n",
       " 'activeWorkspace': '5de6263dd1f7b05531e7ba80',\n",
       " 'defaultWorkspace': '5de6263dd1f7b05531e7ba80',\n",
       " 'settings': {'weekStart': 'MONDAY',\n",
       "  'timeZone': 'Europe/Zurich',\n",
       "  'timeFormat': 'HOUR12',\n",
       "  'dateFormat': 'MM/DD/YYYY',\n",
       "  'sendNewsletter': False,\n",
       "  'weeklyUpdates': False,\n",
       "  'longRunning': False,\n",
       "  'summaryReportSettings': {'group': 'PROJECT', 'subgroup': 'CLIENT'},\n",
       "  'isCompactViewOn': False,\n",
       "  'dashboardSelection': 'ME',\n",
       "  'dashboardViewType': 'PROJECT',\n",
       "  'dashboardPinToTop': False,\n",
       "  'projectListCollapse': 50,\n",
       "  'collapseAllProjectLists': False,\n",
       "  'groupSimilarEntriesDisabled': False,\n",
       "  'myStartOfDay': '09:00',\n",
       "  'timeTrackingManual': True},\n",
       " 'status': 'ACTIVE'}"
      ]
     },
     "execution_count": 7,
     "metadata": {},
     "output_type": "execute_result"
    }
   ],
   "source": [
    "data"
   ]
  },
  {
   "cell_type": "code",
   "execution_count": 8,
   "metadata": {
    "ExecuteTime": {
     "end_time": "2019-12-22T00:36:21.117039Z",
     "start_time": "2019-12-22T00:36:21.048266Z"
    }
   },
   "outputs": [],
   "source": [
    "import requests\n",
    "\n",
    "headers = {\n",
    "    'content-type': 'application/json',\n",
    "    'X-Api-Key': api_key,\n",
    "}\n",
    "\n",
    "response = requests.get('https://api.clockify.me/api/v1/workspaces', headers=headers)\n",
    "\n"
   ]
  },
  {
   "cell_type": "code",
   "execution_count": 9,
   "metadata": {
    "ExecuteTime": {
     "end_time": "2019-12-22T00:36:23.567547Z",
     "start_time": "2019-12-22T00:36:23.540450Z"
    }
   },
   "outputs": [
    {
     "data": {
      "text/plain": [
       "[{'id': '5de6263dd1f7b05531e7ba80',\n",
       "  'name': \"Danny Rasch's workspace\",\n",
       "  'hourlyRate': {'amount': 0, 'currency': 'USD'},\n",
       "  'memberships': [{'userId': '5de6263dd1f7b05531e7ba7f',\n",
       "    'hourlyRate': None,\n",
       "    'targetId': '5de6263dd1f7b05531e7ba80',\n",
       "    'membershipType': 'WORKSPACE',\n",
       "    'membershipStatus': 'ACTIVE'}],\n",
       "  'workspaceSettings': {'timeRoundingInReports': False,\n",
       "   'onlyAdminsSeeBillableRates': True,\n",
       "   'onlyAdminsCreateProject': True,\n",
       "   'onlyAdminsSeeDashboard': False,\n",
       "   'defaultBillableProjects': True,\n",
       "   'isProjectPublicByDefault': False,\n",
       "   'lockTimeEntries': None,\n",
       "   'round': {'round': 'Round to nearest', 'minutes': '15'},\n",
       "   'projectFavorites': True,\n",
       "   'canSeeTimeSheet': False,\n",
       "   'projectPickerSpecialFilter': False,\n",
       "   'forceProjects': False,\n",
       "   'forceTasks': False,\n",
       "   'forceTags': False,\n",
       "   'forceDescription': False,\n",
       "   'onlyAdminsSeeAllTimeEntries': False,\n",
       "   'onlyAdminsSeePublicProjectsEntries': False,\n",
       "   'trackTimeDownToSecond': True,\n",
       "   'projectGroupingLabel': 'client',\n",
       "   'adminOnlyPages': [],\n",
       "   'automaticLock': None,\n",
       "   'onlyAdminsCreateTag': False},\n",
       "  'imageUrl': '',\n",
       "  'featureSubscriptionType': None}]"
      ]
     },
     "execution_count": 9,
     "metadata": {},
     "output_type": "execute_result"
    }
   ],
   "source": [
    "response\n",
    "data = response.json() \n",
    "data"
   ]
  },
  {
   "cell_type": "code",
   "execution_count": 10,
   "metadata": {
    "ExecuteTime": {
     "end_time": "2019-12-22T00:36:29.299274Z",
     "start_time": "2019-12-22T00:36:29.202644Z"
    }
   },
   "outputs": [
    {
     "data": {
      "text/plain": [
       "[{'id': '5df52adadcb50a7902c02fb8',\n",
       "  'name': 'test_tag',\n",
       "  'workspaceId': '5de6263dd1f7b05531e7ba80',\n",
       "  'archived': False}]"
      ]
     },
     "execution_count": 10,
     "metadata": {},
     "output_type": "execute_result"
    }
   ],
   "source": [
    "response = requests.get('https://api.clockify.me/api/v1/workspaces/5de6263dd1f7b05531e7ba80/tags', headers=headers)\n",
    "data = response.json() \n",
    "data"
   ]
  },
  {
   "cell_type": "code",
   "execution_count": null,
   "metadata": {},
   "outputs": [],
   "source": []
  },
  {
   "cell_type": "code",
   "execution_count": 13,
   "metadata": {
    "ExecuteTime": {
     "end_time": "2019-12-22T00:36:59.023082Z",
     "start_time": "2019-12-22T00:36:58.938326Z"
    }
   },
   "outputs": [],
   "source": [
    "# importing the requests library \n",
    "import requests \n",
    "\n",
    "# api-endpoint \n",
    "URL = \"https://api.clockify.me/api/v1/workspaces/5de6263dd1f7b05531e7ba80/timeEntries\"\n",
    "\n",
    "\n",
    "headers = {\n",
    "    'content-type': 'application/json',\n",
    "    'X-Api-Key': api_key,\n",
    "}\n",
    "\n",
    "# location given here \n",
    "location = \"delhi technological university\"\n",
    "\n",
    "# defining a params dict for the parameters to be sent to the API \n",
    "PARAMS = {\"start\": \"2019-12-09T13:00:37Z\",\n",
    "         \"end\": \"2019-12-12T12:01:41Z\"} \n",
    "\n",
    "# sending get request and saving the response as response object \n",
    "r = requests.get(url = URL, headers=headers)#,params = PARAMS) \n",
    "\n",
    "# extracting data in json format \n",
    "data = r.json() "
   ]
  },
  {
   "cell_type": "code",
   "execution_count": 14,
   "metadata": {
    "ExecuteTime": {
     "end_time": "2019-12-22T00:37:01.098433Z",
     "start_time": "2019-12-22T00:37:01.093930Z"
    }
   },
   "outputs": [
    {
     "data": {
      "text/plain": [
       "{'timestamp': '2019-12-22T00:36:59.013+0000',\n",
       " 'status': 404,\n",
       " 'error': 'Not Found',\n",
       " 'message': 'No message available',\n",
       " 'path': '/v1/workspaces/5de6263dd1f7b05531e7ba80/timeEntries'}"
      ]
     },
     "execution_count": 14,
     "metadata": {},
     "output_type": "execute_result"
    }
   ],
   "source": [
    "data"
   ]
  },
  {
   "cell_type": "markdown",
   "metadata": {},
   "source": [
    " Post Clockify"
   ]
  },
  {
   "cell_type": "code",
   "execution_count": 26,
   "metadata": {
    "ExecuteTime": {
     "end_time": "2019-12-22T01:11:02.303352Z",
     "start_time": "2019-12-22T01:11:02.195313Z"
    }
   },
   "outputs": [
    {
     "name": "stdout",
     "output_type": "stream",
     "text": [
      "The pastebin URL is:{\"message\":\"You entered invalid value for field : [end]. Values that represent [end] can be null and can't be empty. Please make sure that the [end] date is not greater than 9999-12-31 and not less than 0001-01-01. Ensure that the [end] date is in following format: \\\"yyyy-MM-ddThh:mm:ssZ\\\" Example: 2018-11-29T13:00:46Z. \",\"code\":501}\n"
     ]
    }
   ],
   "source": [
    "# importing the requests library \n",
    "import requests \n",
    "URL = \"https://api.clockify.me/api/v1/workspaces/5de6263dd1f7b05531e7ba80/time-entries\"\n",
    "\n",
    "\n",
    "# your API key here \n",
    "\n",
    "headers = {\n",
    "    'content-type': 'application/json',\n",
    "    'X-Api-Key': api_key,\n",
    "}\n",
    "# your source code here \n",
    "source_code = ''' \n",
    "print(\"Hello, world!\") \n",
    "a = 1 \n",
    "b = 2 \n",
    "print(a + b) \n",
    "'''\n",
    "\n",
    "# data to be sent to api \n",
    "data = {\n",
    "        \"start\": \"2019-12-22T13:48:14.000Z\",\n",
    "        \"billable\": \"true\",\n",
    "        \"description\": \"Writing documentation\",\n",
    "        \"projectId\": \"5df396a97597692991929a72\",\n",
    "        \"taskId\": \"5df52af6b1a5ec52732c9c47\",\n",
    "        \"end\": \"2019-12-12T13:50:14.000Z\",\n",
    "        \"tagIds\": [\n",
    "           \"5df52adadcb50a7902c02fb8\"\n",
    "         ],\n",
    "        } \n",
    "\n",
    "# sending post request and saving response as response object \n",
    "#data is not automatically converted to json, you have to do this explicitly:\n",
    "r = requests.post(url = URL, headers=headers,data = json.dumps(data)) \n",
    "\n",
    "# extracting response text \n",
    "pastebin_url = r.text \n",
    "print(\"The pastebin URL is:%s\"%pastebin_url) \n"
   ]
  },
  {
   "cell_type": "code",
   "execution_count": 22,
   "metadata": {
    "ExecuteTime": {
     "end_time": "2019-12-22T00:39:35.013112Z",
     "start_time": "2019-12-22T00:39:35.000731Z"
    }
   },
   "outputs": [
    {
     "data": {
      "text/plain": [
       "{'id': '5dfebad2efb1d14ac4d96c50',\n",
       " 'description': 'Writing documentation',\n",
       " 'tagIds': ['5df52adadcb50a7902c02fb8'],\n",
       " 'userId': '5de6263dd1f7b05531e7ba7f',\n",
       " 'billable': True,\n",
       " 'taskId': '5df52af6b1a5ec52732c9c47',\n",
       " 'projectId': '5df396a97597692991929a72',\n",
       " 'timeInterval': {'start': '2019-12-22T13:48:14Z',\n",
       "  'end': '2019-12-22T13:50:14Z',\n",
       "  'duration': 'PT2M'},\n",
       " 'workspaceId': '5de6263dd1f7b05531e7ba80',\n",
       " 'isLocked': False}"
      ]
     },
     "execution_count": 22,
     "metadata": {},
     "output_type": "execute_result"
    }
   ],
   "source": [
    "data = r.json() \n",
    "data"
   ]
  },
  {
   "cell_type": "code",
   "execution_count": 24,
   "metadata": {
    "ExecuteTime": {
     "end_time": "2019-12-22T00:39:50.711901Z",
     "start_time": "2019-12-22T00:39:50.705654Z"
    }
   },
   "outputs": [
    {
     "data": {
      "text/plain": [
       "'5dfebad2efb1d14ac4d96c50'"
      ]
     },
     "execution_count": 24,
     "metadata": {},
     "output_type": "execute_result"
    }
   ],
   "source": [
    "data[\"id\"]"
   ]
  },
  {
   "cell_type": "code",
   "execution_count": 33,
   "metadata": {
    "ExecuteTime": {
     "end_time": "2019-12-22T01:20:33.957650Z",
     "start_time": "2019-12-22T01:20:33.880133Z"
    }
   },
   "outputs": [
    {
     "name": "stdout",
     "output_type": "stream",
     "text": [
      "The pastebin URL is:{\"message\":\"You entered invalid value for field : [end]. Values that represent [end] can be null and can't be empty. Please make sure that the [end] date is not greater than 9999-12-31 and not less than 0001-01-01. Ensure that the [end] date is in following format: \\\"yyyy-MM-ddThh:mm:ssZ\\\" Example: 2018-11-29T13:00:46Z. \",\"code\":501}\n"
     ]
    }
   ],
   "source": [
    "# importing the requests library \n",
    "import requests \n",
    "URL = \"https://api.clockify.me/api/v1/workspaces/5de6263dd1f7b05531e7ba80/time-entries\"\n",
    "\n",
    "\n",
    "# your API key here \n",
    "\n",
    "headers = {\n",
    "    'content-type': 'application/json',\n",
    "    'X-Api-Key': api_key,\n",
    "}\n",
    "# your source code here \n",
    "source_code = ''' \n",
    "print(\"Hello, world!\") \n",
    "a = 1 \n",
    "b = 2 \n",
    "print(a + b) \n",
    "'''\n",
    "\n",
    "# data to be sent to api \n",
    "data = {\n",
    "        \"start\": \"2019-12-22T13:52:00.000Z\",\n",
    "        \"billable\": \"true\",\n",
    "        \"description\": \"Writing documentation\",\n",
    "        \"projectId\": \"5df396a97597692991929a72\",\n",
    "        \"taskId\": \"5df52af6b1a5ec52732c9c47\",\n",
    "        \"end\": \"2019-12-122T13:55:00.000Z\",\n",
    "        \"tagIds\": [\n",
    "           \"5df52adadcb50a7902c02fb8\"\n",
    "         ],\n",
    "        } \n",
    "\n",
    "# sending post request and saving response as response object \n",
    "#data is not automatically converted to json, you have to do this explicitly:\n",
    "r = requests.post(url = URL, headers=headers,data = json.dumps(data)) \n",
    "\n",
    "# extracting response text \n",
    "pastebin_url = r.text \n",
    "print(\"The pastebin URL is:%s\"%pastebin_url) \n"
   ]
  },
  {
   "cell_type": "code",
   "execution_count": null,
   "metadata": {},
   "outputs": [],
   "source": []
  }
 ],
 "metadata": {
  "hide_input": false,
  "kernelspec": {
   "display_name": "Python 3",
   "language": "python",
   "name": "python3"
  },
  "language_info": {
   "codemirror_mode": {
    "name": "ipython",
    "version": 3
   },
   "file_extension": ".py",
   "mimetype": "text/x-python",
   "name": "python",
   "nbconvert_exporter": "python",
   "pygments_lexer": "ipython3",
   "version": "3.7.3"
  },
  "toc": {
   "base_numbering": 1,
   "nav_menu": {},
   "number_sections": true,
   "sideBar": true,
   "skip_h1_title": false,
   "title_cell": "Table of Contents",
   "title_sidebar": "Contents",
   "toc_cell": false,
   "toc_position": {},
   "toc_section_display": true,
   "toc_window_display": false
  },
  "varInspector": {
   "cols": {
    "lenName": 16,
    "lenType": 16,
    "lenVar": 40
   },
   "kernels_config": {
    "python": {
     "delete_cmd_postfix": "",
     "delete_cmd_prefix": "del ",
     "library": "var_list.py",
     "varRefreshCmd": "print(var_dic_list())"
    },
    "r": {
     "delete_cmd_postfix": ") ",
     "delete_cmd_prefix": "rm(",
     "library": "var_list.r",
     "varRefreshCmd": "cat(var_dic_list()) "
    }
   },
   "types_to_exclude": [
    "module",
    "function",
    "builtin_function_or_method",
    "instance",
    "_Feature"
   ],
   "window_display": false
  }
 },
 "nbformat": 4,
 "nbformat_minor": 4
}
