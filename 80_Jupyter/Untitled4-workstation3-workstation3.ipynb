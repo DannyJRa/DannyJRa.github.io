{
 "cells": [
  {
   "cell_type": "code",
   "execution_count": 2,
   "metadata": {},
   "outputs": [
    {
     "name": "stdout",
     "output_type": "stream",
     "text": [
      "mkdir: cannot create directory ‘sqlalchemy-demo’: File exists\n",
      "\u001b[33mWARNING: The directory '/home/danny/.cache/pip/http' or its parent directory is not owned by the current user and the cache has been disabled. Please check the permissions and owner of that directory. If executing pip with sudo, you may want sudo's -H flag.\u001b[0m\n",
      "\u001b[33mWARNING: The directory '/home/danny/.cache/pip' or its parent directory is not owned by the current user and caching wheels has been disabled. check the permissions and owner of that directory. If executing pip with sudo, you may want sudo's -H flag.\u001b[0m\n",
      "Collecting sqlalchemy\n",
      "\u001b[?25l  Downloading https://files.pythonhosted.org/packages/14/0e/487f7fc1e432cec50d2678f94e4133f2b9e9356e35bacc30d73e8cb831fc/SQLAlchemy-1.3.10.tar.gz (6.0MB)\n",
      "\u001b[K     |████████████████████████████████| 6.0MB 4.6MB/s \n",
      "\u001b[?25hBuilding wheels for collected packages: sqlalchemy\n",
      "  Building wheel for sqlalchemy (setup.py) ... \u001b[?25ldone\n",
      "\u001b[?25h  Stored in directory: /home/danny/.cache/pip/wheels/4b/b2/89/cd2231ee623987c605f049df55f40a3e4252ef6a15b94836c2\n",
      "Successfully built sqlalchemy\n",
      "Installing collected packages: sqlalchemy\n",
      "Successfully installed sqlalchemy-1.3.10\n",
      "\u001b[33mWARNING: You are using pip version 19.1.1, however version 19.2.3 is available.\n",
      "You should consider upgrading via the 'pip install --upgrade pip' command.\u001b[0m\n"
     ]
    }
   ],
   "source": [
    "!mkdir sqlalchemy-demo && cd sqlalchemy-demo\n",
    "!touch demo.db\n",
    "!sudo pip install sqlalchemy"
   ]
  },
  {
   "cell_type": "code",
   "execution_count": 3,
   "metadata": {},
   "outputs": [],
   "source": [
    "from sqlalchemy import *\n",
    "from sqlalchemy.ext.declarative import declarative_base\n",
    "from sqlalchemy.orm import sessionmaker\n",
    "from sqlalchemy.sql import *\n",
    "\n",
    "engine = create_engine('sqlite:///demo.db')\n",
    "Base = declarative_base()\n",
    "\n",
    "class Users(Base):\n",
    "    __tablename__ = \"users\"\n",
    "    UserId = Column(Integer, primary_key=True)\n",
    "    Title = Column(String)\n",
    "    FirstName = Column(String)\n",
    "    LastName = Column(String)\n",
    "    Email = Column(String)\n",
    "    Username = Column(String)\n",
    "    DOB = Column(DateTime)\n",
    "\n",
    "class Uploads(Base):\n",
    "    __tablename__ = \"uploads\"\n",
    "    UploadId = Column(Integer, primary_key=True)\n",
    "    UserId = Column(Integer)\n",
    "    Title = Column(String)\n",
    "    Body = Column(String)\n",
    "    Timestamp = Column(DateTime)\n",
    "\n",
    "Users.__table__.create(bind=engine, checkfirst=True)\n",
    "Uploads.__table__.create(bind=engine, checkfirst=True)"
   ]
  },
  {
   "cell_type": "code",
   "execution_count": 4,
   "metadata": {},
   "outputs": [],
   "source": [
    "import requests\n",
    "\n",
    "url = 'https://randomuser.me/api/?results=10'\n",
    "users_json = requests.get(url).json()\n",
    "url2 = 'https://jsonplaceholder.typicode.com/posts/'\n",
    "uploads_json = requests.get(url2).json()"
   ]
  },
  {
   "cell_type": "code",
   "execution_count": 10,
   "metadata": {},
   "outputs": [],
   "source": [
    "from datetime import datetime, timedelta\n",
    "from random import randint\n",
    "import dateutil\n",
    "\n",
    "users, uploads = [], []\n",
    "\n",
    "for i, result in enumerate(users_json['results']):\n",
    "    row = {}\n",
    "    row['UserId'] = i\n",
    "    row['Title'] = result['name']['title']\n",
    "    row['FirstName'] = result['name']['first']\n",
    "    row['LastName'] = result['name']['last']\n",
    "    row['Email'] = result['email']\n",
    "    row['Username'] = result['login']['username']\n",
    "    #dob = datetime.strptime(result['dob'],'%Y-%m-%d %H:%M:%S') \n",
    "    #dob = datetime.strptime(result['dob']['date'],'%Y-%m-%dT%H:%M:%SZ')\n",
    "    dob = dateutil.parser.parse(result['dob']['date']) # ISO 8601 basic format\n",
    "    row['DOB'] = dob.date()\n",
    "    \n",
    "    users.append(row)\n",
    "    \n",
    "for result in uploads_json:\n",
    "    row = {}\n",
    "    row['UploadId'] = result['id']\n",
    "    row['UserId'] = result['userId']\n",
    "    row['Title'] = result['title']\n",
    "    row['Body'] = result['body']\n",
    "    delta = timedelta(seconds=randint(1,86400))\n",
    "    row['Timestamp'] = datetime.now() - delta\n",
    "    \n",
    "    uploads.append(row)"
   ]
  },
  {
   "cell_type": "code",
   "execution_count": 11,
   "metadata": {},
   "outputs": [],
   "source": [
    "Session = sessionmaker(bind=engine)\n",
    "session = Session()\n",
    "\n",
    "for user in users:\n",
    "    row = Users(**user)\n",
    "    session.add(row)\n",
    "    \n",
    "for upload in uploads:\n",
    "    row = Uploads(**upload)\n",
    "    session.add(row)\n",
    "\n",
    "session.commit()"
   ]
  },
  {
   "cell_type": "code",
   "execution_count": 15,
   "metadata": {},
   "outputs": [
    {
     "ename": "SyntaxError",
     "evalue": "unexpected character after line continuation character (<ipython-input-15-0da17fc75658>, line 5)",
     "output_type": "error",
     "traceback": [
      "\u001b[0;36m  File \u001b[0;32m\"<ipython-input-15-0da17fc75658>\"\u001b[0;36m, line \u001b[0;32m5\u001b[0m\n\u001b[0;31m    func.count(Uploads.UploadId).label('PostCount')]).\\\u001b[0m\n\u001b[0m                                                        ^\u001b[0m\n\u001b[0;31mSyntaxError\u001b[0m\u001b[0;31m:\u001b[0m unexpected character after line continuation character\n"
     ]
    }
   ],
   "source": [
    "connection = engine.connect()\n",
    "\n",
    "query = select([Uploads.UserId,\n",
    "    func.max(Uploads.Timestamp).label('LastActive'),\n",
    "    func.count(Uploads.UploadId).label('PostCount')]).\\ \n",
    "    group_by('UserId')\n",
    "\n",
    "results = connection.execute(query)\n",
    "\n",
    "for result in results:\n",
    "    row = UploadCounts(**result)\n",
    "    session.add(row)\n",
    "    \n",
    "session.commit()"
   ]
  },
  {
   "cell_type": "code",
   "execution_count": null,
   "metadata": {},
   "outputs": [],
   "source": []
  },
  {
   "cell_type": "code",
   "execution_count": 21,
   "metadata": {},
   "outputs": [
    {
     "name": "stdout",
     "output_type": "stream",
     "text": [
      "['uploads', 'users']\n",
      "[{'name': 'UserId', 'type': INTEGER(), 'nullable': False, 'default': None, 'autoincrement': 'auto', 'primary_key': 1}, {'name': 'Title', 'type': VARCHAR(), 'nullable': True, 'default': None, 'autoincrement': 'auto', 'primary_key': 0}, {'name': 'FirstName', 'type': VARCHAR(), 'nullable': True, 'default': None, 'autoincrement': 'auto', 'primary_key': 0}, {'name': 'LastName', 'type': VARCHAR(), 'nullable': True, 'default': None, 'autoincrement': 'auto', 'primary_key': 0}, {'name': 'Email', 'type': VARCHAR(), 'nullable': True, 'default': None, 'autoincrement': 'auto', 'primary_key': 0}, {'name': 'Username', 'type': VARCHAR(), 'nullable': True, 'default': None, 'autoincrement': 'auto', 'primary_key': 0}, {'name': 'DOB', 'type': DATETIME(), 'nullable': True, 'default': None, 'autoincrement': 'auto', 'primary_key': 0}]\n"
     ]
    }
   ],
   "source": [
    "from sqlalchemy import create_engine\n",
    "from sqlalchemy import inspect\n",
    "\n",
    "db_uri = 'sqlite:///demo.db'\n",
    "engine = create_engine(db_uri)\n",
    "\n",
    "inspector = inspect(engine)\n",
    "\n",
    "# Get table information\n",
    "print(inspector.get_table_names())\n",
    "\n",
    "# Get column information\n",
    "print(inspector.get_columns('users'))"
   ]
  },
  {
   "cell_type": "code",
   "execution_count": 20,
   "metadata": {},
   "outputs": [
    {
     "name": "stdout",
     "output_type": "stream",
     "text": [
      "uploads\n",
      "users\n"
     ]
    }
   ],
   "source": []
  },
  {
   "cell_type": "code",
   "execution_count": null,
   "metadata": {},
   "outputs": [],
   "source": []
  }
 ],
 "metadata": {
  "kernelspec": {
   "display_name": "Python 3",
   "language": "python",
   "name": "python3"
  },
  "language_info": {
   "codemirror_mode": {
    "name": "ipython",
    "version": 3
   },
   "file_extension": ".py",
   "mimetype": "text/x-python",
   "name": "python",
   "nbconvert_exporter": "python",
   "pygments_lexer": "ipython3",
   "version": "3.7.3"
  }
 },
 "nbformat": 4,
 "nbformat_minor": 2
}
